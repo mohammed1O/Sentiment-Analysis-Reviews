{
  "cells": [
    {
      "cell_type": "markdown",
      "metadata": {},
      "source": [
        "## Sentiment Analysis of Reviews Using VADER and RoBERTa"
      ]
    },
    {
      "cell_type": "markdown",
      "metadata": {},
      "source": []
    },
    {
      "cell_type": "code",
      "execution_count": 1,
      "metadata": {},
      "outputs": [
        {
          "name": "stdout",
          "output_type": "stream",
          "text": [
            "Requirement already satisfied: pandas in c:\\users\\moham\\appdata\\local\\programs\\python\\python311\\lib\\site-packages (2.2.3)\n",
            "Requirement already satisfied: numpy>=1.23.2 in c:\\users\\moham\\appdata\\local\\programs\\python\\python311\\lib\\site-packages (from pandas) (2.0.2)\n",
            "Requirement already satisfied: python-dateutil>=2.8.2 in c:\\users\\moham\\appdata\\roaming\\python\\python311\\site-packages (from pandas) (2.9.0.post0)\n",
            "Requirement already satisfied: pytz>=2020.1 in c:\\users\\moham\\appdata\\local\\programs\\python\\python311\\lib\\site-packages (from pandas) (2025.1)\n",
            "Requirement already satisfied: tzdata>=2022.7 in c:\\users\\moham\\appdata\\local\\programs\\python\\python311\\lib\\site-packages (from pandas) (2025.1)\n",
            "Requirement already satisfied: six>=1.5 in c:\\users\\moham\\appdata\\roaming\\python\\python311\\site-packages (from python-dateutil>=2.8.2->pandas) (1.16.0)\n"
          ]
        },
        {
          "name": "stderr",
          "output_type": "stream",
          "text": [
            "\n",
            "[notice] A new release of pip is available: 24.0 -> 25.0.1\n",
            "[notice] To update, run: python.exe -m pip install --upgrade pip\n"
          ]
        },
        {
          "name": "stdout",
          "output_type": "stream",
          "text": [
            "Requirement already satisfied: seaborn in c:\\users\\moham\\appdata\\local\\programs\\python\\python311\\lib\\site-packages (0.13.2)\n",
            "Requirement already satisfied: numpy!=1.24.0,>=1.20 in c:\\users\\moham\\appdata\\local\\programs\\python\\python311\\lib\\site-packages (from seaborn) (2.0.2)\n",
            "Requirement already satisfied: pandas>=1.2 in c:\\users\\moham\\appdata\\local\\programs\\python\\python311\\lib\\site-packages (from seaborn) (2.2.3)\n",
            "Requirement already satisfied: matplotlib!=3.6.1,>=3.4 in c:\\users\\moham\\appdata\\local\\programs\\python\\python311\\lib\\site-packages (from seaborn) (3.10.1)\n",
            "Requirement already satisfied: contourpy>=1.0.1 in c:\\users\\moham\\appdata\\local\\programs\\python\\python311\\lib\\site-packages (from matplotlib!=3.6.1,>=3.4->seaborn) (1.3.1)\n",
            "Requirement already satisfied: cycler>=0.10 in c:\\users\\moham\\appdata\\local\\programs\\python\\python311\\lib\\site-packages (from matplotlib!=3.6.1,>=3.4->seaborn) (0.12.1)\n",
            "Requirement already satisfied: fonttools>=4.22.0 in c:\\users\\moham\\appdata\\local\\programs\\python\\python311\\lib\\site-packages (from matplotlib!=3.6.1,>=3.4->seaborn) (4.56.0)\n",
            "Requirement already satisfied: kiwisolver>=1.3.1 in c:\\users\\moham\\appdata\\local\\programs\\python\\python311\\lib\\site-packages (from matplotlib!=3.6.1,>=3.4->seaborn) (1.4.8)\n",
            "Requirement already satisfied: packaging>=20.0 in c:\\users\\moham\\appdata\\roaming\\python\\python311\\site-packages (from matplotlib!=3.6.1,>=3.4->seaborn) (24.1)\n",
            "Requirement already satisfied: pillow>=8 in c:\\users\\moham\\appdata\\local\\programs\\python\\python311\\lib\\site-packages (from matplotlib!=3.6.1,>=3.4->seaborn) (11.1.0)\n",
            "Requirement already satisfied: pyparsing>=2.3.1 in c:\\users\\moham\\appdata\\local\\programs\\python\\python311\\lib\\site-packages (from matplotlib!=3.6.1,>=3.4->seaborn) (3.2.1)\n",
            "Requirement already satisfied: python-dateutil>=2.7 in c:\\users\\moham\\appdata\\roaming\\python\\python311\\site-packages (from matplotlib!=3.6.1,>=3.4->seaborn) (2.9.0.post0)\n",
            "Requirement already satisfied: pytz>=2020.1 in c:\\users\\moham\\appdata\\local\\programs\\python\\python311\\lib\\site-packages (from pandas>=1.2->seaborn) (2025.1)\n",
            "Requirement already satisfied: tzdata>=2022.7 in c:\\users\\moham\\appdata\\local\\programs\\python\\python311\\lib\\site-packages (from pandas>=1.2->seaborn) (2025.1)\n",
            "Requirement already satisfied: six>=1.5 in c:\\users\\moham\\appdata\\roaming\\python\\python311\\site-packages (from python-dateutil>=2.7->matplotlib!=3.6.1,>=3.4->seaborn) (1.16.0)\n"
          ]
        },
        {
          "name": "stderr",
          "output_type": "stream",
          "text": [
            "\n",
            "[notice] A new release of pip is available: 24.0 -> 25.0.1\n",
            "[notice] To update, run: python.exe -m pip install --upgrade pip\n"
          ]
        },
        {
          "name": "stdout",
          "output_type": "stream",
          "text": [
            "Requirement already satisfied: matplotlib in c:\\users\\moham\\appdata\\local\\programs\\python\\python311\\lib\\site-packages (3.10.1)\n",
            "Requirement already satisfied: contourpy>=1.0.1 in c:\\users\\moham\\appdata\\local\\programs\\python\\python311\\lib\\site-packages (from matplotlib) (1.3.1)\n",
            "Requirement already satisfied: cycler>=0.10 in c:\\users\\moham\\appdata\\local\\programs\\python\\python311\\lib\\site-packages (from matplotlib) (0.12.1)\n",
            "Requirement already satisfied: fonttools>=4.22.0 in c:\\users\\moham\\appdata\\local\\programs\\python\\python311\\lib\\site-packages (from matplotlib) (4.56.0)\n",
            "Requirement already satisfied: kiwisolver>=1.3.1 in c:\\users\\moham\\appdata\\local\\programs\\python\\python311\\lib\\site-packages (from matplotlib) (1.4.8)\n",
            "Requirement already satisfied: numpy>=1.23 in c:\\users\\moham\\appdata\\local\\programs\\python\\python311\\lib\\site-packages (from matplotlib) (2.0.2)\n",
            "Requirement already satisfied: packaging>=20.0 in c:\\users\\moham\\appdata\\roaming\\python\\python311\\site-packages (from matplotlib) (24.1)\n",
            "Requirement already satisfied: pillow>=8 in c:\\users\\moham\\appdata\\local\\programs\\python\\python311\\lib\\site-packages (from matplotlib) (11.1.0)\n",
            "Requirement already satisfied: pyparsing>=2.3.1 in c:\\users\\moham\\appdata\\local\\programs\\python\\python311\\lib\\site-packages (from matplotlib) (3.2.1)\n",
            "Requirement already satisfied: python-dateutil>=2.7 in c:\\users\\moham\\appdata\\roaming\\python\\python311\\site-packages (from matplotlib) (2.9.0.post0)\n",
            "Requirement already satisfied: six>=1.5 in c:\\users\\moham\\appdata\\roaming\\python\\python311\\site-packages (from python-dateutil>=2.7->matplotlib) (1.16.0)\n"
          ]
        },
        {
          "name": "stderr",
          "output_type": "stream",
          "text": [
            "\n",
            "[notice] A new release of pip is available: 24.0 -> 25.0.1\n",
            "[notice] To update, run: python.exe -m pip install --upgrade pip\n"
          ]
        },
        {
          "name": "stdout",
          "output_type": "stream",
          "text": [
            "Requirement already satisfied: nltk in c:\\users\\moham\\appdata\\local\\programs\\python\\python311\\lib\\site-packages (3.9.1)\n",
            "Requirement already satisfied: click in c:\\users\\moham\\appdata\\local\\programs\\python\\python311\\lib\\site-packages (from nltk) (8.1.8)\n",
            "Requirement already satisfied: joblib in c:\\users\\moham\\appdata\\local\\programs\\python\\python311\\lib\\site-packages (from nltk) (1.4.2)\n",
            "Requirement already satisfied: regex>=2021.8.3 in c:\\users\\moham\\appdata\\local\\programs\\python\\python311\\lib\\site-packages (from nltk) (2024.11.6)\n",
            "Requirement already satisfied: tqdm in c:\\users\\moham\\appdata\\local\\programs\\python\\python311\\lib\\site-packages (from nltk) (4.67.1)\n",
            "Requirement already satisfied: colorama in c:\\users\\moham\\appdata\\roaming\\python\\python311\\site-packages (from click->nltk) (0.4.6)\n"
          ]
        },
        {
          "name": "stderr",
          "output_type": "stream",
          "text": [
            "\n",
            "[notice] A new release of pip is available: 24.0 -> 25.0.1\n",
            "[notice] To update, run: python.exe -m pip install --upgrade pip\n"
          ]
        }
      ],
      "source": [
        "! pip install pandas\n",
        "! pip install seaborn\n",
        "! pip install matplotlib\n",
        "! pip install nltk"
      ]
    },
    {
      "cell_type": "markdown",
      "metadata": {},
      "source": [
        "load a dataset from the   local"
      ]
    },
    {
      "cell_type": "code",
      "execution_count": 12,
      "metadata": {
        "colab": {
          "base_uri": "https://localhost:8080/",
          "height": 356
        },
        "id": "DZaAHbC97Bc5",
        "outputId": "ecfe9738-4e47-4eff-80aa-69d234d307e4"
      },
      "outputs": [
        {
          "name": "stdout",
          "output_type": "stream",
          "text": [
            "Data source import complete.\n",
            "(4000, 10)\n"
          ]
        }
      ],
      "source": [
        "import pandas as pd\n",
        "\n",
        "# Specify the path to your local file\n",
        "file_path = r\"C:\\Users\\moham\\OneDrive\\Documents\\archive (3)\\Reviews.csv\"\n",
        "\n",
        "# Load the CSV data from the specified path\n",
        "df1 = pd.read_csv(file_path)\n",
        "df = df1.head(4000)\n",
        "\n",
        "# Print the shape of the DataFrame to verify it has been loaded correctly\n",
        "print('Data source import complete.')\n",
        "print(df.shape)\n"
      ]
    },
    {
      "cell_type": "code",
      "execution_count": 13,
      "metadata": {
        "execution": {
          "iopub.execute_input": "2022-05-04T19:39:21.716451Z",
          "iopub.status.busy": "2022-05-04T19:39:21.715793Z",
          "iopub.status.idle": "2022-05-04T19:39:23.804667Z",
          "shell.execute_reply": "2022-05-04T19:39:23.803713Z",
          "shell.execute_reply.started": "2022-05-04T19:39:21.716291Z"
        },
        "id": "P99kESZZ7Bc-",
        "trusted": true
      },
      "outputs": [],
      "source": [
        "\n",
        "import numpy as np\n",
        "import matplotlib.pyplot as plt\n",
        "import seaborn as sns\n",
        "#applies the 'ggplot' style to the plots\n",
        "plt.style.use('ggplot')\n",
        "\n",
        "import nltk"
      ]
    },
    {
      "cell_type": "markdown",
      "metadata": {},
      "source": [
        "selecting the samples of the dataset "
      ]
    },
    {
      "cell_type": "code",
      "execution_count": 27,
      "metadata": {},
      "outputs": [
        {
          "name": "stdout",
          "output_type": "stream",
          "text": [
            "(4000, 11)\n",
            "(4000, 11)\n"
          ]
        },
        {
          "data": {
            "text/html": [
              "<div>\n",
              "<style scoped>\n",
              "    .dataframe tbody tr th:only-of-type {\n",
              "        vertical-align: middle;\n",
              "    }\n",
              "\n",
              "    .dataframe tbody tr th {\n",
              "        vertical-align: top;\n",
              "    }\n",
              "\n",
              "    .dataframe thead th {\n",
              "        text-align: right;\n",
              "    }\n",
              "</style>\n",
              "<table border=\"1\" class=\"dataframe\">\n",
              "  <thead>\n",
              "    <tr style=\"text-align: right;\">\n",
              "      <th></th>\n",
              "      <th>Id</th>\n",
              "      <th>ProductId</th>\n",
              "      <th>UserId</th>\n",
              "      <th>ProfileName</th>\n",
              "      <th>HelpfulnessNumerator</th>\n",
              "      <th>HelpfulnessDenominator</th>\n",
              "      <th>Score</th>\n",
              "      <th>Time</th>\n",
              "      <th>Summary</th>\n",
              "      <th>Text</th>\n",
              "      <th>Sentiment</th>\n",
              "    </tr>\n",
              "  </thead>\n",
              "  <tbody>\n",
              "    <tr>\n",
              "      <th>3820</th>\n",
              "      <td>3820</td>\n",
              "      <td>B000X2CWTM</td>\n",
              "      <td>AFGWEW525UBN7</td>\n",
              "      <td>michlhw</td>\n",
              "      <td>2</td>\n",
              "      <td>2</td>\n",
              "      <td>5</td>\n",
              "      <td>1323561600</td>\n",
              "      <td>good traditional licorice</td>\n",
              "      <td>love it. eating it has got to be a ritual. tas...</td>\n",
              "      <td>Positive</td>\n",
              "    </tr>\n",
              "    <tr>\n",
              "      <th>490</th>\n",
              "      <td>490</td>\n",
              "      <td>B000G6RYNE</td>\n",
              "      <td>A3TEMXOLE1APPZ</td>\n",
              "      <td>A. Nichols \"upteeajn2\"</td>\n",
              "      <td>0</td>\n",
              "      <td>0</td>\n",
              "      <td>2</td>\n",
              "      <td>1210809600</td>\n",
              "      <td>Good and tangy</td>\n",
              "      <td>I agree with the other review, these chips are...</td>\n",
              "      <td>Negative</td>\n",
              "    </tr>\n",
              "    <tr>\n",
              "      <th>2795</th>\n",
              "      <td>2795</td>\n",
              "      <td>B000J2DQ46</td>\n",
              "      <td>A1FULACHND6DCH</td>\n",
              "      <td>jwyres</td>\n",
              "      <td>0</td>\n",
              "      <td>0</td>\n",
              "      <td>3</td>\n",
              "      <td>1311120000</td>\n",
              "      <td>Can't find the clams</td>\n",
              "      <td>I just finished my first bowl of this clam cho...</td>\n",
              "      <td>Neutral</td>\n",
              "    </tr>\n",
              "    <tr>\n",
              "      <th>252</th>\n",
              "      <td>252</td>\n",
              "      <td>B0002567IW</td>\n",
              "      <td>A1SSKFPX72MSMR</td>\n",
              "      <td>Janna M. Sicard \"missjanna\"</td>\n",
              "      <td>0</td>\n",
              "      <td>0</td>\n",
              "      <td>1</td>\n",
              "      <td>1344556800</td>\n",
              "      <td>Sad outcome</td>\n",
              "      <td>Five minutes in, one tentacle was bitten off, ...</td>\n",
              "      <td>Negative</td>\n",
              "    </tr>\n",
              "    <tr>\n",
              "      <th>1907</th>\n",
              "      <td>1907</td>\n",
              "      <td>B005FG6KZ8</td>\n",
              "      <td>A2VZD53IMJ6ABS</td>\n",
              "      <td>seetherfreak_09</td>\n",
              "      <td>0</td>\n",
              "      <td>0</td>\n",
              "      <td>5</td>\n",
              "      <td>1332547200</td>\n",
              "      <td>Soo GOOD!</td>\n",
              "      <td>Cheetos ever since I was kid were one of my fa...</td>\n",
              "      <td>Positive</td>\n",
              "    </tr>\n",
              "  </tbody>\n",
              "</table>\n",
              "</div>"
            ],
            "text/plain": [
              "        Id   ProductId          UserId                  ProfileName  \\\n",
              "3820  3820  B000X2CWTM   AFGWEW525UBN7                      michlhw   \n",
              "490    490  B000G6RYNE  A3TEMXOLE1APPZ       A. Nichols \"upteeajn2\"   \n",
              "2795  2795  B000J2DQ46  A1FULACHND6DCH                       jwyres   \n",
              "252    252  B0002567IW  A1SSKFPX72MSMR  Janna M. Sicard \"missjanna\"   \n",
              "1907  1907  B005FG6KZ8  A2VZD53IMJ6ABS              seetherfreak_09   \n",
              "\n",
              "      HelpfulnessNumerator  HelpfulnessDenominator  Score        Time  \\\n",
              "3820                     2                       2      5  1323561600   \n",
              "490                      0                       0      2  1210809600   \n",
              "2795                     0                       0      3  1311120000   \n",
              "252                      0                       0      1  1344556800   \n",
              "1907                     0                       0      5  1332547200   \n",
              "\n",
              "                        Summary  \\\n",
              "3820  good traditional licorice   \n",
              "490              Good and tangy   \n",
              "2795       Can't find the clams   \n",
              "252                 Sad outcome   \n",
              "1907                  Soo GOOD!   \n",
              "\n",
              "                                                   Text Sentiment  \n",
              "3820  love it. eating it has got to be a ritual. tas...  Positive  \n",
              "490   I agree with the other review, these chips are...  Negative  \n",
              "2795  I just finished my first bowl of this clam cho...   Neutral  \n",
              "252   Five minutes in, one tentacle was bitten off, ...  Negative  \n",
              "1907  Cheetos ever since I was kid were one of my fa...  Positive  "
            ]
          },
          "execution_count": 27,
          "metadata": {},
          "output_type": "execute_result"
        }
      ],
      "source": [
        "original_shape = df.shape\n",
        "print(original_shape)\n",
        "\n",
        "df = df.head(4000)\n",
        "\n",
        "new_shape = df.shape\n",
        "print(new_shape)\n",
        "\n",
        "df.sample(5)  # Random 5 rows "
      ]
    },
    {
      "cell_type": "markdown",
      "metadata": {},
      "source": [
        "Classifying Sentiment Based on Score"
      ]
    },
    {
      "cell_type": "code",
      "execution_count": 33,
      "metadata": {},
      "outputs": [
        {
          "name": "stdout",
          "output_type": "stream",
          "text": [
            "    Id Sentiment\n",
            "0    0  Positive\n",
            "1    1  Negative\n",
            "2    2  Positive\n",
            "3    3  Negative\n",
            "4    4  Positive\n",
            "5    5  Positive\n",
            "6    6  Positive\n",
            "7    7  Positive\n",
            "8    8  Positive\n",
            "9    9  Positive\n",
            "10  10  Positive\n",
            "11  11  Positive\n",
            "12  12  Negative\n",
            "13  13  Positive\n",
            "14  14  Positive\n",
            "15  15  Positive\n",
            "16  16  Negative\n",
            "17  17  Positive\n",
            "18  18  Positive\n",
            "19  19  Positive\n",
            "        Id Sentiment\n",
            "3990  3990  Positive\n",
            "3991  3991  Positive\n",
            "3992  3992  Positive\n",
            "3993  3993  Positive\n",
            "3994  3994  Negative\n",
            "3995  3995  Positive\n",
            "3996  3996  Positive\n",
            "3997  3997  Positive\n",
            "3998  3998  Positive\n",
            "3999  3999  Positive\n"
          ]
        }
      ],
      "source": [
        "# Add a column for sentiment classification based on the \"Score\" value\n",
        "df['Sentiment'] = df['Score'].apply(lambda x: 'Positive' if x >= 4 else ('Negative' if x <= 2 else 'Neutral'))\n",
        "\n",
        "# Reset the index so that the index starts from 0\n",
        "df.reset_index(drop=True, inplace=True)\n",
        "\n",
        "# Set the 'Id' column to start from 0\n",
        "df['Id'] = df.index\n",
        "\n",
        "# Select only the \"Id\" and \"Sentiment\" columns\n",
        "truee = df[['Id', 'Sentiment']]\n",
        "\n",
        "# Display the first 20 rows of the truee DataFrame\n",
        "print(truee.head(20))\n",
        "print(truee.tail(10))"
      ]
    },
    {
      "cell_type": "markdown",
      "metadata": {},
      "source": [
        "Plotting the Review Scores Using  Chart"
      ]
    },
    {
      "cell_type": "code",
      "execution_count": 15,
      "metadata": {},
      "outputs": [
        {
          "data": {
            "image/png": "[encoded data removed]",
            "text/plain": [
              "<Figure size 1000x500 with 1 Axes>"
            ]
          },
          "metadata": {},
          "output_type": "display_data"
        }
      ],
      "source": [
        "import matplotlib.pyplot as plt # Importing the matplotlib library for plotting\n",
        "(df['Score']   # Accessing the 'Score' column from the DataFrame\n",
        " .value_counts() #Counting the frequency of each unique value in the 'Score' column\n",
        " .sort_index()\n",
        " .plot.bar(title=' Reviews  Stars',\n",
        "           figsize=(10, 5),\n",
        "           xlabel='Review Stars',\n",
        "           ))\n",
        "plt.show()"
      ]
    },
    {
      "cell_type": "code",
      "execution_count": 16,
      "metadata": {
        "execution": {
          "iopub.execute_input": "2022-05-04T19:43:03.801913Z",
          "iopub.status.busy": "2022-05-04T19:43:03.80111Z",
          "iopub.status.idle": "2022-05-04T19:43:03.807131Z",
          "shell.execute_reply": "2022-05-04T19:43:03.80649Z",
          "shell.execute_reply.started": "2022-05-04T19:43:03.801876Z"
        },
        "id": "i9i_ySqR7BdA",
        "trusted": true
      },
      "outputs": [
        {
          "name": "stdout",
          "output_type": "stream",
          "text": [
            "This oatmeal is not good. Its mushy, soft, I don't like it. Quaker Oats is the way to go.\n"
          ]
        }
      ],
      "source": [
        "# retrieves and prints the example of the data  \n",
        "example = df['Text'][50]\n",
        "print(example)"
      ]
    },
    {
      "cell_type": "markdown",
      "metadata": {},
      "source": [
        "# tokenize with  NLTK"
      ]
    },
    {
      "cell_type": "code",
      "execution_count": 17,
      "metadata": {},
      "outputs": [
        {
          "data": {
            "text/plain": [
              "['This', 'oatmeal', 'is', 'not', 'good', '.', 'Its', 'mushy', ',', 'soft']"
            ]
          },
          "execution_count": 17,
          "metadata": {},
          "output_type": "execute_result"
        }
      ],
      "source": [
        "tokens = nltk.word_tokenize(example)\n",
        "tokens[:10]"
      ]
    },
    {
      "cell_type": "markdown",
      "metadata": {
        "id": "iLzUaM6j7BdB"
      },
      "source": [
        "#  VADER Seniment \n",
        "\n",
        "We will use NLTK  `SentimentIntensityAnalyzer` to get the neg/neu/pos scores of the text.\n",
        "\n",
        "- This uses  approach:\n",
        "    1. Tokenization apply\n",
        "    2. Stop words are removed\n",
        "    3. each word is scored and combined to a total score."
      ]
    },
    {
      "cell_type": "markdown",
      "metadata": {},
      "source": [
        " imports NLTK, downloads the VADER lexicon"
      ]
    },
    {
      "cell_type": "code",
      "execution_count": 18,
      "metadata": {
        "execution": {
          "iopub.execute_input": "2022-05-04T19:49:00.872374Z",
          "iopub.status.busy": "2022-05-04T19:49:00.871775Z",
          "iopub.status.idle": "2022-05-04T19:49:00.897436Z",
          "shell.execute_reply": "2022-05-04T19:49:00.896255Z",
          "shell.execute_reply.started": "2022-05-04T19:49:00.872332Z"
        },
        "id": "dxMvGioR7BdB",
        "trusted": true
      },
      "outputs": [
        {
          "name": "stderr",
          "output_type": "stream",
          "text": [
            "[nltk_data] Downloading package vader_lexicon to\n",
            "[nltk_data]     C:\\Users\\moham/nltk_data...\n",
            "[nltk_data]   Package vader_lexicon is already up-to-date!\n"
          ]
        }
      ],
      "source": [
        "import nltk\n",
        "from nltk.sentiment import SentimentIntensityAnalyzer # Import SentimentIntensityAnalyzer for sentiment analysis\n",
        "  \n",
        "nltk.download('vader_lexicon')  #Download the VADER lexicon\n",
        "sia = SentimentIntensityAnalyzer()"
      ]
    },
    {
      "cell_type": "code",
      "execution_count": 50,
      "metadata": {
        "execution": {
          "iopub.execute_input": "2022-05-04T19:50:17.484008Z",
          "iopub.status.busy": "2022-05-04T19:50:17.483709Z",
          "iopub.status.idle": "2022-05-04T19:50:17.490483Z",
          "shell.execute_reply": "2022-05-04T19:50:17.489645Z",
          "shell.execute_reply.started": "2022-05-04T19:50:17.483975Z"
        },
        "id": "Bfto0gVA7BdB",
        "trusted": true
      },
      "outputs": [
        {
          "data": {
            "text/plain": [
              "{'neg': 0.2, 'neu': 0.558, 'pos': 0.242, 'compound': -0.0258}"
            ]
          },
          "execution_count": 50,
          "metadata": {},
          "output_type": "execute_result"
        }
      ],
      "source": [
        "sia.polarity_scores('The product looks good, but its performance is disappointing and far from what was promised')"
      ]
    },
    {
      "cell_type": "code",
      "execution_count": 19,
      "metadata": {},
      "outputs": [],
      "source": [
        "#Importing tqdm for Progress Bar show\n",
        "from tqdm.notebook import tqdm"
      ]
    },
    {
      "cell_type": "markdown",
      "metadata": {},
      "source": [
        " analyzes the sentiment of each text in a DataFrame "
      ]
    },
    {
      "cell_type": "code",
      "execution_count": 20,
      "metadata": {},
      "outputs": [
        {
          "name": "stderr",
          "output_type": "stream",
          "text": [
            "C:\\Users\\moham\\AppData\\Local\\Temp\\ipykernel_24840\\1549429089.py:1: TqdmExperimentalWarning: Using `tqdm.autonotebook.tqdm` in notebook mode. Use `tqdm.tqdm` instead to force console mode (e.g. in jupyter console)\n",
            "  from tqdm.autonotebook import tqdm\n"
          ]
        },
        {
          "data": {
            "application/vnd.jupyter.widget-view+json": {
              "model_id": "ad70c5e2147e47ed9382491846b9b8d7",
              "version_major": 2,
              "version_minor": 0
            },
            "text/plain": [
              "  0%|          | 0/4000 [00:00<?, ?it/s]"
            ]
          },
          "metadata": {},
          "output_type": "display_data"
        }
      ],
      "source": [
        "from tqdm.autonotebook import tqdm    \n",
        "# Iterating through each row in the DataFrame 'df' using iterrows() \n",
        "res = {}\n",
        "for i, row in tqdm(df.iterrows(), total=len(df)):\n",
        "    text = row['Text']\n",
        "    myid = row['Id']\n",
        "    res[myid] = sia.polarity_scores(text)"
      ]
    },
    {
      "cell_type": "code",
      "execution_count": 15,
      "metadata": {},
      "outputs": [
        {
          "data": {
            "text/html": [
              "<div>\n",
              "<style scoped>\n",
              "    .dataframe tbody tr th:only-of-type {\n",
              "        vertical-align: middle;\n",
              "    }\n",
              "\n",
              "    .dataframe tbody tr th {\n",
              "        vertical-align: top;\n",
              "    }\n",
              "\n",
              "    .dataframe thead th {\n",
              "        text-align: right;\n",
              "    }\n",
              "</style>\n",
              "<table border=\"1\" class=\"dataframe\">\n",
              "  <thead>\n",
              "    <tr style=\"text-align: right;\">\n",
              "      <th></th>\n",
              "      <th>0</th>\n",
              "      <th>1</th>\n",
              "      <th>2</th>\n",
              "      <th>3</th>\n",
              "      <th>4</th>\n",
              "      <th>5</th>\n",
              "      <th>6</th>\n",
              "      <th>7</th>\n",
              "      <th>8</th>\n",
              "      <th>9</th>\n",
              "      <th>...</th>\n",
              "      <th>390</th>\n",
              "      <th>391</th>\n",
              "      <th>392</th>\n",
              "      <th>393</th>\n",
              "      <th>394</th>\n",
              "      <th>395</th>\n",
              "      <th>396</th>\n",
              "      <th>397</th>\n",
              "      <th>398</th>\n",
              "      <th>399</th>\n",
              "    </tr>\n",
              "  </thead>\n",
              "  <tbody>\n",
              "    <tr>\n",
              "      <th>neg</th>\n",
              "      <td>0.0000</td>\n",
              "      <td>0.1380</td>\n",
              "      <td>0.0910</td>\n",
              "      <td>0.0</td>\n",
              "      <td>0.0000</td>\n",
              "      <td>0.029</td>\n",
              "      <td>0.0340</td>\n",
              "      <td>0.0000</td>\n",
              "      <td>0.0000</td>\n",
              "      <td>0.0000</td>\n",
              "      <td>...</td>\n",
              "      <td>0.2480</td>\n",
              "      <td>0.0000</td>\n",
              "      <td>0.0000</td>\n",
              "      <td>0.0</td>\n",
              "      <td>0.0000</td>\n",
              "      <td>0.0000</td>\n",
              "      <td>0.0000</td>\n",
              "      <td>0.046</td>\n",
              "      <td>0.0000</td>\n",
              "      <td>0.0000</td>\n",
              "    </tr>\n",
              "    <tr>\n",
              "      <th>neu</th>\n",
              "      <td>0.6950</td>\n",
              "      <td>0.8620</td>\n",
              "      <td>0.7540</td>\n",
              "      <td>1.0</td>\n",
              "      <td>0.5520</td>\n",
              "      <td>0.809</td>\n",
              "      <td>0.6930</td>\n",
              "      <td>0.5200</td>\n",
              "      <td>0.8510</td>\n",
              "      <td>0.7050</td>\n",
              "      <td>...</td>\n",
              "      <td>0.6360</td>\n",
              "      <td>0.6420</td>\n",
              "      <td>0.6610</td>\n",
              "      <td>1.0</td>\n",
              "      <td>0.8300</td>\n",
              "      <td>0.5020</td>\n",
              "      <td>0.6380</td>\n",
              "      <td>0.703</td>\n",
              "      <td>0.8000</td>\n",
              "      <td>0.7870</td>\n",
              "    </tr>\n",
              "    <tr>\n",
              "      <th>pos</th>\n",
              "      <td>0.3050</td>\n",
              "      <td>0.0000</td>\n",
              "      <td>0.1550</td>\n",
              "      <td>0.0</td>\n",
              "      <td>0.4480</td>\n",
              "      <td>0.163</td>\n",
              "      <td>0.2730</td>\n",
              "      <td>0.4800</td>\n",
              "      <td>0.1490</td>\n",
              "      <td>0.2950</td>\n",
              "      <td>...</td>\n",
              "      <td>0.1160</td>\n",
              "      <td>0.3580</td>\n",
              "      <td>0.3390</td>\n",
              "      <td>0.0</td>\n",
              "      <td>0.1700</td>\n",
              "      <td>0.4980</td>\n",
              "      <td>0.3620</td>\n",
              "      <td>0.251</td>\n",
              "      <td>0.2000</td>\n",
              "      <td>0.2130</td>\n",
              "    </tr>\n",
              "    <tr>\n",
              "      <th>compound</th>\n",
              "      <td>0.9441</td>\n",
              "      <td>-0.5664</td>\n",
              "      <td>0.8265</td>\n",
              "      <td>0.0</td>\n",
              "      <td>0.9468</td>\n",
              "      <td>0.883</td>\n",
              "      <td>0.9346</td>\n",
              "      <td>0.9487</td>\n",
              "      <td>0.6369</td>\n",
              "      <td>0.8313</td>\n",
              "      <td>...</td>\n",
              "      <td>-0.8174</td>\n",
              "      <td>0.8591</td>\n",
              "      <td>0.8481</td>\n",
              "      <td>0.0</td>\n",
              "      <td>0.8016</td>\n",
              "      <td>0.9677</td>\n",
              "      <td>0.9682</td>\n",
              "      <td>0.867</td>\n",
              "      <td>0.9885</td>\n",
              "      <td>0.7644</td>\n",
              "    </tr>\n",
              "  </tbody>\n",
              "</table>\n",
              "<p>4 rows × 400 columns</p>\n",
              "</div>"
            ],
            "text/plain": [
              "             0       1       2    3       4      5       6       7       8    \\\n",
              "neg       0.0000  0.1380  0.0910  0.0  0.0000  0.029  0.0340  0.0000  0.0000   \n",
              "neu       0.6950  0.8620  0.7540  1.0  0.5520  0.809  0.6930  0.5200  0.8510   \n",
              "pos       0.3050  0.0000  0.1550  0.0  0.4480  0.163  0.2730  0.4800  0.1490   \n",
              "compound  0.9441 -0.5664  0.8265  0.0  0.9468  0.883  0.9346  0.9487  0.6369   \n",
              "\n",
              "             9    ...     390     391     392  393     394     395     396  \\\n",
              "neg       0.0000  ...  0.2480  0.0000  0.0000  0.0  0.0000  0.0000  0.0000   \n",
              "neu       0.7050  ...  0.6360  0.6420  0.6610  1.0  0.8300  0.5020  0.6380   \n",
              "pos       0.2950  ...  0.1160  0.3580  0.3390  0.0  0.1700  0.4980  0.3620   \n",
              "compound  0.8313  ... -0.8174  0.8591  0.8481  0.0  0.8016  0.9677  0.9682   \n",
              "\n",
              "            397     398     399  \n",
              "neg       0.046  0.0000  0.0000  \n",
              "neu       0.703  0.8000  0.7870  \n",
              "pos       0.251  0.2000  0.2130  \n",
              "compound  0.867  0.9885  0.7644  \n",
              "\n",
              "[4 rows x 400 columns]"
            ]
          },
          "execution_count": 15,
          "metadata": {},
          "output_type": "execute_result"
        }
      ],
      "source": [
        "pd.DataFrame(res)  # Converts the dictionary res into a DataFrame"
      ]
    },
    {
      "cell_type": "code",
      "execution_count": 21,
      "metadata": {},
      "outputs": [
        {
          "data": {
            "text/html": [
              "<div>\n",
              "<style scoped>\n",
              "    .dataframe tbody tr th:only-of-type {\n",
              "        vertical-align: middle;\n",
              "    }\n",
              "\n",
              "    .dataframe tbody tr th {\n",
              "        vertical-align: top;\n",
              "    }\n",
              "\n",
              "    .dataframe thead th {\n",
              "        text-align: right;\n",
              "    }\n",
              "</style>\n",
              "<table border=\"1\" class=\"dataframe\">\n",
              "  <thead>\n",
              "    <tr style=\"text-align: right;\">\n",
              "      <th></th>\n",
              "      <th>neg</th>\n",
              "      <th>neu</th>\n",
              "      <th>pos</th>\n",
              "      <th>compound</th>\n",
              "    </tr>\n",
              "  </thead>\n",
              "  <tbody>\n",
              "    <tr>\n",
              "      <th>0</th>\n",
              "      <td>0.000</td>\n",
              "      <td>0.695</td>\n",
              "      <td>0.305</td>\n",
              "      <td>0.9441</td>\n",
              "    </tr>\n",
              "    <tr>\n",
              "      <th>1</th>\n",
              "      <td>0.138</td>\n",
              "      <td>0.862</td>\n",
              "      <td>0.000</td>\n",
              "      <td>-0.5664</td>\n",
              "    </tr>\n",
              "    <tr>\n",
              "      <th>2</th>\n",
              "      <td>0.091</td>\n",
              "      <td>0.754</td>\n",
              "      <td>0.155</td>\n",
              "      <td>0.8265</td>\n",
              "    </tr>\n",
              "    <tr>\n",
              "      <th>3</th>\n",
              "      <td>0.000</td>\n",
              "      <td>1.000</td>\n",
              "      <td>0.000</td>\n",
              "      <td>0.0000</td>\n",
              "    </tr>\n",
              "    <tr>\n",
              "      <th>4</th>\n",
              "      <td>0.000</td>\n",
              "      <td>0.552</td>\n",
              "      <td>0.448</td>\n",
              "      <td>0.9468</td>\n",
              "    </tr>\n",
              "    <tr>\n",
              "      <th>...</th>\n",
              "      <td>...</td>\n",
              "      <td>...</td>\n",
              "      <td>...</td>\n",
              "      <td>...</td>\n",
              "    </tr>\n",
              "    <tr>\n",
              "      <th>3995</th>\n",
              "      <td>0.000</td>\n",
              "      <td>0.677</td>\n",
              "      <td>0.323</td>\n",
              "      <td>0.8591</td>\n",
              "    </tr>\n",
              "    <tr>\n",
              "      <th>3996</th>\n",
              "      <td>0.000</td>\n",
              "      <td>0.786</td>\n",
              "      <td>0.214</td>\n",
              "      <td>0.9366</td>\n",
              "    </tr>\n",
              "    <tr>\n",
              "      <th>3997</th>\n",
              "      <td>0.080</td>\n",
              "      <td>0.728</td>\n",
              "      <td>0.192</td>\n",
              "      <td>0.8736</td>\n",
              "    </tr>\n",
              "    <tr>\n",
              "      <th>3998</th>\n",
              "      <td>0.000</td>\n",
              "      <td>0.699</td>\n",
              "      <td>0.301</td>\n",
              "      <td>0.8847</td>\n",
              "    </tr>\n",
              "    <tr>\n",
              "      <th>3999</th>\n",
              "      <td>0.000</td>\n",
              "      <td>0.851</td>\n",
              "      <td>0.149</td>\n",
              "      <td>0.6588</td>\n",
              "    </tr>\n",
              "  </tbody>\n",
              "</table>\n",
              "<p>4000 rows × 4 columns</p>\n",
              "</div>"
            ],
            "text/plain": [
              "        neg    neu    pos  compound\n",
              "0     0.000  0.695  0.305    0.9441\n",
              "1     0.138  0.862  0.000   -0.5664\n",
              "2     0.091  0.754  0.155    0.8265\n",
              "3     0.000  1.000  0.000    0.0000\n",
              "4     0.000  0.552  0.448    0.9468\n",
              "...     ...    ...    ...       ...\n",
              "3995  0.000  0.677  0.323    0.8591\n",
              "3996  0.000  0.786  0.214    0.9366\n",
              "3997  0.080  0.728  0.192    0.8736\n",
              "3998  0.000  0.699  0.301    0.8847\n",
              "3999  0.000  0.851  0.149    0.6588\n",
              "\n",
              "[4000 rows x 4 columns]"
            ]
          },
          "execution_count": 21,
          "metadata": {},
          "output_type": "execute_result"
        }
      ],
      "source": [
        "pd.DataFrame(res).T  #Reverse dataframe\n"
      ]
    },
    {
      "cell_type": "code",
      "execution_count": 29,
      "metadata": {},
      "outputs": [
        {
          "name": "stdout",
          "output_type": "stream",
          "text": [
            "     neg    neu    pos  compound Sentiment_Class\n",
            "0  0.000  0.695  0.305    0.9441        Positive\n",
            "1  0.138  0.862  0.000   -0.5664        Negative\n",
            "2  0.091  0.754  0.155    0.8265        Positive\n",
            "3  0.000  1.000  0.000    0.0000         Neutral\n",
            "4  0.000  0.552  0.448    0.9468        Positive\n",
            "5  0.029  0.809  0.163    0.8830        Positive\n",
            "6  0.034  0.693  0.273    0.9346        Positive\n",
            "7  0.000  0.520  0.480    0.9487        Positive\n",
            "8  0.000  0.851  0.149    0.6369        Positive\n",
            "9  0.000  0.705  0.295    0.8313        Positive\n"
          ]
        }
      ],
      "source": [
        "# Convert the 'res' dictionary into a DataFrame\n",
        "results_df = pd.DataFrame.from_dict(res, orient='index')\n",
        "\n",
        "# Add a new column 'Sentiment_Class' based on the 'compound' score\n",
        "results_df['Sentiment_Class'] = results_df['compound'].apply(lambda x: 'Positive' if x > 0.05 \n",
        "                                                             else ('Negative' if x < -0.05 \n",
        "                                                                   else 'Neutral'))\n",
        "\n",
        "# Display the first 10 rows of the DataFrame with the new 'Sentiment_Class' column\n",
        "print(results_df.head(10))"
      ]
    },
    {
      "cell_type": "markdown",
      "metadata": {},
      "source": [
        "Marge the VADER  results with the Original Data"
      ]
    },
    {
      "cell_type": "code",
      "execution_count": 30,
      "metadata": {
        "execution": {
          "iopub.execute_input": "2022-05-04T19:54:30.925103Z",
          "iopub.status.busy": "2022-05-04T19:54:30.924791Z",
          "iopub.status.idle": "2022-05-04T19:54:30.966166Z",
          "shell.execute_reply": "2022-05-04T19:54:30.965461Z",
          "shell.execute_reply.started": "2022-05-04T19:54:30.925073Z"
        },
        "id": "ovBbWu4g7BdC",
        "trusted": true
      },
      "outputs": [],
      "source": [
        "vaders = pd.DataFrame(res).T\n",
        "vaders = vaders.reset_index().rename(columns={'index': 'Id'})\n",
        "vaders = vaders.merge(df, how='left')"
      ]
    },
    {
      "cell_type": "code",
      "execution_count": 31,
      "metadata": {
        "execution": {
          "iopub.execute_input": "2022-05-04T19:54:54.822947Z",
          "iopub.status.busy": "2022-05-04T19:54:54.822445Z",
          "iopub.status.idle": "2022-05-04T19:54:54.841701Z",
          "shell.execute_reply": "2022-05-04T19:54:54.840666Z",
          "shell.execute_reply.started": "2022-05-04T19:54:54.822898Z"
        },
        "id": "QLLMlr4t7BdC",
        "trusted": true
      },
      "outputs": [
        {
          "data": {
            "text/html": [
              "<div>\n",
              "<style scoped>\n",
              "    .dataframe tbody tr th:only-of-type {\n",
              "        vertical-align: middle;\n",
              "    }\n",
              "\n",
              "    .dataframe tbody tr th {\n",
              "        vertical-align: top;\n",
              "    }\n",
              "\n",
              "    .dataframe thead th {\n",
              "        text-align: right;\n",
              "    }\n",
              "</style>\n",
              "<table border=\"1\" class=\"dataframe\">\n",
              "  <thead>\n",
              "    <tr style=\"text-align: right;\">\n",
              "      <th></th>\n",
              "      <th>Id</th>\n",
              "      <th>neg</th>\n",
              "      <th>neu</th>\n",
              "      <th>pos</th>\n",
              "      <th>compound</th>\n",
              "      <th>ProductId</th>\n",
              "      <th>UserId</th>\n",
              "      <th>ProfileName</th>\n",
              "      <th>HelpfulnessNumerator</th>\n",
              "      <th>HelpfulnessDenominator</th>\n",
              "      <th>Score</th>\n",
              "      <th>Time</th>\n",
              "      <th>Summary</th>\n",
              "      <th>Text</th>\n",
              "      <th>Sentiment</th>\n",
              "    </tr>\n",
              "  </thead>\n",
              "  <tbody>\n",
              "    <tr>\n",
              "      <th>0</th>\n",
              "      <td>0</td>\n",
              "      <td>0.000</td>\n",
              "      <td>0.695</td>\n",
              "      <td>0.305</td>\n",
              "      <td>0.9441</td>\n",
              "      <td>B001E4KFG0</td>\n",
              "      <td>A3SGXH7AUHU8GW</td>\n",
              "      <td>delmartian</td>\n",
              "      <td>1</td>\n",
              "      <td>1</td>\n",
              "      <td>5</td>\n",
              "      <td>1303862400</td>\n",
              "      <td>Good Quality Dog Food</td>\n",
              "      <td>I have bought several of the Vitality canned d...</td>\n",
              "      <td>Positive</td>\n",
              "    </tr>\n",
              "    <tr>\n",
              "      <th>1</th>\n",
              "      <td>1</td>\n",
              "      <td>0.138</td>\n",
              "      <td>0.862</td>\n",
              "      <td>0.000</td>\n",
              "      <td>-0.5664</td>\n",
              "      <td>B00813GRG4</td>\n",
              "      <td>A1D87F6ZCVE5NK</td>\n",
              "      <td>dll pa</td>\n",
              "      <td>0</td>\n",
              "      <td>0</td>\n",
              "      <td>1</td>\n",
              "      <td>1346976000</td>\n",
              "      <td>Not as Advertised</td>\n",
              "      <td>Product arrived labeled as Jumbo Salted Peanut...</td>\n",
              "      <td>Negative</td>\n",
              "    </tr>\n",
              "    <tr>\n",
              "      <th>2</th>\n",
              "      <td>2</td>\n",
              "      <td>0.091</td>\n",
              "      <td>0.754</td>\n",
              "      <td>0.155</td>\n",
              "      <td>0.8265</td>\n",
              "      <td>B000LQOCH0</td>\n",
              "      <td>ABXLMWJIXXAIN</td>\n",
              "      <td>Natalia Corres \"Natalia Corres\"</td>\n",
              "      <td>1</td>\n",
              "      <td>1</td>\n",
              "      <td>4</td>\n",
              "      <td>1219017600</td>\n",
              "      <td>\"Delight\" says it all</td>\n",
              "      <td>This is a confection that has been around a fe...</td>\n",
              "      <td>Positive</td>\n",
              "    </tr>\n",
              "    <tr>\n",
              "      <th>3</th>\n",
              "      <td>3</td>\n",
              "      <td>0.000</td>\n",
              "      <td>1.000</td>\n",
              "      <td>0.000</td>\n",
              "      <td>0.0000</td>\n",
              "      <td>B000UA0QIQ</td>\n",
              "      <td>A395BORC6FGVXV</td>\n",
              "      <td>Karl</td>\n",
              "      <td>3</td>\n",
              "      <td>3</td>\n",
              "      <td>2</td>\n",
              "      <td>1307923200</td>\n",
              "      <td>Cough Medicine</td>\n",
              "      <td>If you are looking for the secret ingredient i...</td>\n",
              "      <td>Negative</td>\n",
              "    </tr>\n",
              "    <tr>\n",
              "      <th>4</th>\n",
              "      <td>4</td>\n",
              "      <td>0.000</td>\n",
              "      <td>0.552</td>\n",
              "      <td>0.448</td>\n",
              "      <td>0.9468</td>\n",
              "      <td>B006K2ZZ7K</td>\n",
              "      <td>A1UQRSCLF8GW1T</td>\n",
              "      <td>Michael D. Bigham \"M. Wassir\"</td>\n",
              "      <td>0</td>\n",
              "      <td>0</td>\n",
              "      <td>5</td>\n",
              "      <td>1350777600</td>\n",
              "      <td>Great taffy</td>\n",
              "      <td>Great taffy at a great price.  There was a wid...</td>\n",
              "      <td>Positive</td>\n",
              "    </tr>\n",
              "  </tbody>\n",
              "</table>\n",
              "</div>"
            ],
            "text/plain": [
              "   Id    neg    neu    pos  compound   ProductId          UserId  \\\n",
              "0   0  0.000  0.695  0.305    0.9441  B001E4KFG0  A3SGXH7AUHU8GW   \n",
              "1   1  0.138  0.862  0.000   -0.5664  B00813GRG4  A1D87F6ZCVE5NK   \n",
              "2   2  0.091  0.754  0.155    0.8265  B000LQOCH0   ABXLMWJIXXAIN   \n",
              "3   3  0.000  1.000  0.000    0.0000  B000UA0QIQ  A395BORC6FGVXV   \n",
              "4   4  0.000  0.552  0.448    0.9468  B006K2ZZ7K  A1UQRSCLF8GW1T   \n",
              "\n",
              "                       ProfileName  HelpfulnessNumerator  \\\n",
              "0                       delmartian                     1   \n",
              "1                           dll pa                     0   \n",
              "2  Natalia Corres \"Natalia Corres\"                     1   \n",
              "3                             Karl                     3   \n",
              "4    Michael D. Bigham \"M. Wassir\"                     0   \n",
              "\n",
              "   HelpfulnessDenominator  Score        Time                Summary  \\\n",
              "0                       1      5  1303862400  Good Quality Dog Food   \n",
              "1                       0      1  1346976000      Not as Advertised   \n",
              "2                       1      4  1219017600  \"Delight\" says it all   \n",
              "3                       3      2  1307923200         Cough Medicine   \n",
              "4                       0      5  1350777600            Great taffy   \n",
              "\n",
              "                                                Text Sentiment  \n",
              "0  I have bought several of the Vitality canned d...  Positive  \n",
              "1  Product arrived labeled as Jumbo Salted Peanut...  Negative  \n",
              "2  This is a confection that has been around a fe...  Positive  \n",
              "3  If you are looking for the secret ingredient i...  Negative  \n",
              "4  Great taffy at a great price.  There was a wid...  Positive  "
            ]
          },
          "execution_count": 31,
          "metadata": {},
          "output_type": "execute_result"
        }
      ],
      "source": [
        "# Now we have sentiment score and metadata\n",
        "vaders.head()"
      ]
    },
    {
      "cell_type": "markdown",
      "metadata": {
        "id": "iwvVCDuu7BdC"
      },
      "source": [
        "## Plot VADER results"
      ]
    },
    {
      "cell_type": "code",
      "execution_count": 25,
      "metadata": {
        "execution": {
          "iopub.execute_input": "2022-05-04T19:56:43.932173Z",
          "iopub.status.busy": "2022-05-04T19:56:43.93162Z",
          "iopub.status.idle": "2022-05-04T19:56:44.304355Z",
          "shell.execute_reply": "2022-05-04T19:56:44.303225Z",
          "shell.execute_reply.started": "2022-05-04T19:56:43.932133Z"
        },
        "id": "ytP7t0Po7BdC",
        "trusted": true
      },
      "outputs": [
        {
          "data": {
            "image/png": "[encoded data removed]",
            "text/plain": [
              "<Figure size 640x480 with 1 Axes>"
            ]
          },
          "metadata": {},
          "output_type": "display_data"
        }
      ],
      "source": [
        "ax = sns.barplot(data=vaders, x='Score', y='compound')\n",
        "ax.set_title('Sentiment Score ')\n",
        "plt.show()"
      ]
    },
    {
      "cell_type": "code",
      "execution_count": 41,
      "metadata": {},
      "outputs": [
        {
          "name": "stdout",
          "output_type": "stream",
          "text": [
            "Requirement already satisfied: scikit-learn in c:\\users\\moham\\appdata\\local\\programs\\python\\python311\\lib\\site-packages (1.6.1)\n",
            "Requirement already satisfied: numpy>=1.19.5 in c:\\users\\moham\\appdata\\local\\programs\\python\\python311\\lib\\site-packages (from scikit-learn) (2.0.2)\n",
            "Requirement already satisfied: scipy>=1.6.0 in c:\\users\\moham\\appdata\\local\\programs\\python\\python311\\lib\\site-packages (from scikit-learn) (1.15.2)\n",
            "Requirement already satisfied: joblib>=1.2.0 in c:\\users\\moham\\appdata\\local\\programs\\python\\python311\\lib\\site-packages (from scikit-learn) (1.4.2)\n",
            "Requirement already satisfied: threadpoolctl>=3.1.0 in c:\\users\\moham\\appdata\\local\\programs\\python\\python311\\lib\\site-packages (from scikit-learn) (3.5.0)\n"
          ]
        },
        {
          "name": "stderr",
          "output_type": "stream",
          "text": [
            "\n",
            "[notice] A new release of pip is available: 24.0 -> 25.0.1\n",
            "[notice] To update, run: python.exe -m pip install --upgrade pip\n"
          ]
        }
      ],
      "source": [
        "! pip install scikit-learn"
      ]
    },
    {
      "cell_type": "markdown",
      "metadata": {},
      "source": [
        "## -\tPrecision & Recall Evaluation"
      ]
    },
    {
      "cell_type": "markdown",
      "metadata": {},
      "source": [
        "## vader Evaluation"
      ]
    },
    {
      "cell_type": "code",
      "execution_count": 36,
      "metadata": {},
      "outputs": [
        {
          "name": "stdout",
          "output_type": "stream",
          "text": [
            "   Id Sentiment_Class\n",
            "0   0        Positive\n",
            "1   1        Negative\n",
            "2   2        Positive\n",
            "3   3         Neutral\n",
            "4   4        Positive\n",
            "5   5        Positive\n",
            "6   6        Positive\n",
            "7   7        Positive\n",
            "8   8        Positive\n",
            "9   9        Positive\n",
            "        Id Sentiment_Class\n",
            "3990  3990        Positive\n",
            "3991  3991        Positive\n",
            "3992  3992        Positive\n",
            "3993  3993        Positive\n",
            "3994  3994        Negative\n",
            "3995  3995        Positive\n",
            "3996  3996        Positive\n",
            "3997  3997        Positive\n",
            "3998  3998        Positive\n",
            "3999  3999        Positive\n"
          ]
        }
      ],
      "source": [
        "# Reset the index and make it start from 0\n",
        "results_df.reset_index(drop=True, inplace=True)\n",
        "\n",
        "# Now, make sure the 'Id' starts from 1 by adding 1 to the index\n",
        "results_df['Id'] = results_df.index \n",
        "\n",
        "# Extract the 'Id' and 'Sentiment_Class' columns\n",
        "simplified_df = results_df[['Id', 'Sentiment_Class']]\n",
        "\n",
        "# Display the first 10 rows of the simplified DataFrame\n",
        "print(simplified_df.head(10))\n",
        "print(simplified_df.tail(10))"
      ]
    },
    {
      "cell_type": "code",
      "execution_count": 55,
      "metadata": {},
      "outputs": [
        {
          "name": "stdout",
          "output_type": "stream",
          "text": [
            "Class: Positive\n",
            "  Precision: 0.8390\n",
            "  Recall: 0.9522\n",
            "  F1 Score: 0.8920\n",
            "-------------------\n",
            "Class: Negative\n",
            "  Precision: 0.5952\n",
            "  Recall: 0.4119\n",
            "  F1 Score: 0.4869\n",
            "-------------------\n",
            "Class: Neutral\n",
            "  Precision: 0.1798\n",
            "  Recall: 0.0505\n",
            "  F1 Score: 0.0788\n",
            "-------------------\n"
          ]
        }
      ],
      "source": [
        "from collections import defaultdict\n",
        "\n",
        "# Merge the DataFrames based on 'Id'\n",
        "combined_df = simplified_df.merge(truee, on='Id')\n",
        "\n",
        "# Define the possible classes (sentiment categories)\n",
        "classes = ['Positive', 'Negative', 'Neutral']\n",
        "\n",
        "# Initialize a dictionary to store metrics\n",
        "metrics = defaultdict(dict)\n",
        "\n",
        "for cls in classes:\n",
        "    # True Positives: correctly predicted as 'cls'\n",
        "    tp = ((combined_df['Sentiment_Class'] == cls) & (combined_df['Sentiment'] == cls)).sum()\n",
        "    \n",
        "    # False Positives: incorrectly predicted as 'cls'\n",
        "    fp = ((combined_df['Sentiment_Class'] == cls) & (combined_df['Sentiment'] != cls)).sum()\n",
        "    \n",
        "    # False Negatives: samples that should have been 'cls' but were not predicted as such\n",
        "    fn = ((combined_df['Sentiment_Class'] != cls) & (combined_df['Sentiment'] == cls)).sum()\n",
        "    \n",
        "    # Precision\n",
        "    precision = tp / (tp + fp) if (tp + fp) > 0 else 0\n",
        "    \n",
        "    # Recall\n",
        "    recall = tp / (tp + fn) if (tp + fn) > 0 else 0\n",
        "    \n",
        "    # F1 Score\n",
        "    f1_score = (2 * precision * recall) / (precision + recall) if (precision + recall) > 0 else 0\n",
        "    \n",
        "    metrics[cls]['Precision'] = precision\n",
        "    metrics[cls]['Recall'] = recall\n",
        "    metrics[cls]['F1 Score'] = f1_score\n",
        "\n",
        "# Print metrics\n",
        "for cls, vals in metrics.items():\n",
        "    print(f\"Class: {cls}\")\n",
        "    print(f\"  Precision: {vals['Precision']:.4f}\")\n",
        "    print(f\"  Recall: {vals['Recall']:.4f}\")\n",
        "    print(f\"  F1 Score: {vals['F1 Score']:.4f}\")\n",
        "    print(\"-------------------\")\n",
        "\n"
      ]
    },
    {
      "cell_type": "markdown",
      "metadata": {
        "id": "NnFI00GN7BdC"
      },
      "source": [
        "#  Roberta Pretrained Model\n",
        " \n",
        " Use a model trained of a large corpus of data.\n"
      ]
    },
    {
      "cell_type": "code",
      "execution_count": 39,
      "metadata": {},
      "outputs": [
        {
          "name": "stdout",
          "output_type": "stream",
          "text": [
            "Requirement already satisfied: transformers in c:\\users\\moham\\appdata\\local\\programs\\python\\python311\\lib\\site-packages (4.51.3)\n",
            "Requirement already satisfied: filelock in c:\\users\\moham\\appdata\\local\\programs\\python\\python311\\lib\\site-packages (from transformers) (3.17.0)\n",
            "Requirement already satisfied: huggingface-hub<1.0,>=0.30.0 in c:\\users\\moham\\appdata\\local\\programs\\python\\python311\\lib\\site-packages (from transformers) (0.30.2)\n",
            "Requirement already satisfied: numpy>=1.17 in c:\\users\\moham\\appdata\\local\\programs\\python\\python311\\lib\\site-packages (from transformers) (2.0.2)\n",
            "Requirement already satisfied: packaging>=20.0 in c:\\users\\moham\\appdata\\roaming\\python\\python311\\site-packages (from transformers) (24.1)\n",
            "Requirement already satisfied: pyyaml>=5.1 in c:\\users\\moham\\appdata\\local\\programs\\python\\python311\\lib\\site-packages (from transformers) (6.0.2)\n",
            "Requirement already satisfied: regex!=2019.12.17 in c:\\users\\moham\\appdata\\local\\programs\\python\\python311\\lib\\site-packages (from transformers) (2024.11.6)\n",
            "Requirement already satisfied: requests in c:\\users\\moham\\appdata\\local\\programs\\python\\python311\\lib\\site-packages (from transformers) (2.32.3)\n",
            "Requirement already satisfied: tokenizers<0.22,>=0.21 in c:\\users\\moham\\appdata\\local\\programs\\python\\python311\\lib\\site-packages (from transformers) (0.21.1)\n",
            "Requirement already satisfied: safetensors>=0.4.3 in c:\\users\\moham\\appdata\\local\\programs\\python\\python311\\lib\\site-packages (from transformers) (0.5.3)\n",
            "Requirement already satisfied: tqdm>=4.27 in c:\\users\\moham\\appdata\\local\\programs\\python\\python311\\lib\\site-packages (from transformers) (4.67.1)\n",
            "Requirement already satisfied: fsspec>=2023.5.0 in c:\\users\\moham\\appdata\\local\\programs\\python\\python311\\lib\\site-packages (from huggingface-hub<1.0,>=0.30.0->transformers) (2025.2.0)\n",
            "Requirement already satisfied: typing-extensions>=3.7.4.3 in c:\\users\\moham\\appdata\\roaming\\python\\python311\\site-packages (from huggingface-hub<1.0,>=0.30.0->transformers) (4.12.2)\n",
            "Requirement already satisfied: colorama in c:\\users\\moham\\appdata\\roaming\\python\\python311\\site-packages (from tqdm>=4.27->transformers) (0.4.6)\n",
            "Requirement already satisfied: charset-normalizer<4,>=2 in c:\\users\\moham\\appdata\\local\\programs\\python\\python311\\lib\\site-packages (from requests->transformers) (3.4.1)\n",
            "Requirement already satisfied: idna<4,>=2.5 in c:\\users\\moham\\appdata\\local\\programs\\python\\python311\\lib\\site-packages (from requests->transformers) (3.10)\n",
            "Requirement already satisfied: urllib3<3,>=1.21.1 in c:\\users\\moham\\appdata\\local\\programs\\python\\python311\\lib\\site-packages (from requests->transformers) (2.3.0)\n",
            "Requirement already satisfied: certifi>=2017.4.17 in c:\\users\\moham\\appdata\\local\\programs\\python\\python311\\lib\\site-packages (from requests->transformers) (2025.1.31)\n"
          ]
        },
        {
          "name": "stderr",
          "output_type": "stream",
          "text": [
            "\n",
            "[notice] A new release of pip is available: 24.0 -> 25.0.1\n",
            "[notice] To update, run: python.exe -m pip install --upgrade pip\n"
          ]
        }
      ],
      "source": [
        "#Installing the Transformers Library in Python\n",
        "! pip install transformers\n"
      ]
    },
    {
      "cell_type": "markdown",
      "metadata": {},
      "source": [
        " Importing Necessary Libraries for Sequence Classification"
      ]
    },
    {
      "cell_type": "code",
      "execution_count": 40,
      "metadata": {
        "execution": {
          "iopub.execute_input": "2022-05-04T20:02:04.544844Z",
          "iopub.status.busy": "2022-05-04T20:02:04.543909Z",
          "iopub.status.idle": "2022-05-04T20:02:04.549708Z",
          "shell.execute_reply": "2022-05-04T20:02:04.54872Z",
          "shell.execute_reply.started": "2022-05-04T20:02:04.544786Z"
        },
        "id": "cmr2wuQp7BdC",
        "trusted": true
      },
      "outputs": [],
      "source": [
        "from transformers import AutoTokenizer\n",
        "from transformers import AutoModelForSequenceClassification\n",
        "from scipy.special import softmax"
      ]
    },
    {
      "cell_type": "markdown",
      "metadata": {},
      "source": [
        "Loading Pretrained Tokenizer and Model for Sentiment Analysis"
      ]
    },
    {
      "cell_type": "code",
      "execution_count": 41,
      "metadata": {},
      "outputs": [],
      "source": [
        "MODEL = f\"cardiffnlp/twitter-roberta-base-sentiment\"\n",
        "tokenizer = AutoTokenizer.from_pretrained(MODEL)\n",
        "model = AutoModelForSequenceClassification.from_pretrained(MODEL)"
      ]
    },
    {
      "cell_type": "markdown",
      "metadata": {},
      "source": [
        "Running Sentiment Analysis with Roberta Model and Displaying Scores"
      ]
    },
    {
      "cell_type": "code",
      "execution_count": 42,
      "metadata": {},
      "outputs": [
        {
          "name": "stdout",
          "output_type": "stream",
          "text": [
            "Encoded Text: {'input_ids': tensor([[    0,   713,  1021, 38615,    16,    45,   205,     4,  3139, 39589,\n",
            "           219,     6,  3793,     6,    38,   218,    75,   101,    24,     4,\n",
            "          3232,  4218,   384,  2923,    16,     5,   169,     7,   213,     4,\n",
            "             2]]), 'attention_mask': tensor([[1, 1, 1, 1, 1, 1, 1, 1, 1, 1, 1, 1, 1, 1, 1, 1, 1, 1, 1, 1, 1, 1, 1, 1,\n",
            "         1, 1, 1, 1, 1, 1, 1]])}\n",
            "Model Output (Raw Scores): SequenceClassifierOutput(loss=None, logits=tensor([[ 3.1436, -0.7107, -2.6559]], grad_fn=<AddmmBackward0>), hidden_states=None, attentions=None)\n",
            "Raw Scores (before softmax): [ 3.1436293  -0.71066904 -2.6558964 ]\n",
            "Scores after Softmax (Probabilities): [0.97635514 0.02068747 0.00295737]\n",
            "Scores Dictionary: {'roberta_neg': np.float32(0.97635514), 'roberta_neu': np.float32(0.020687466), 'roberta_pos': np.float32(0.0029573706)}\n"
          ]
        }
      ],
      "source": [
        "# Tokenizing the input text\n",
        "encoded_text = tokenizer(example, return_tensors='pt')  \n",
        "print(f\"Encoded Text: {encoded_text}\")  \n",
        "\n",
        "# Passing the tokenized text to the model\n",
        "output = model(**encoded_text)\n",
        "print(f\"Model Output (Raw Scores): {output}\")  \n",
        "\n",
        "# Extracting the sentiment scores\n",
        "scores = output[0][0].detach().numpy()\n",
        "print(f\"Raw Scores (before softmax): {scores}\")    \n",
        "\n",
        "# Applying the softmax function\n",
        "scores = softmax(scores)\n",
        "print(f\"Scores after Softmax (Probabilities): {scores}\")   \n",
        "\n",
        "# Creating a dictionary to store the probabilities for each sentiment class\n",
        "scores_dict = {\n",
        "    'roberta_neg' : scores[0],\n",
        "    'roberta_neu' : scores[1],\n",
        "    'roberta_pos' : scores[2]\n",
        "}\n",
        "print(f\"Scores Dictionary: {scores_dict}\")      \n"
      ]
    },
    {
      "cell_type": "code",
      "execution_count": 43,
      "metadata": {},
      "outputs": [
        {
          "name": "stdout",
          "output_type": "stream",
          "text": [
            "{'roberta_neg': np.float32(0.97635514), 'roberta_neu': np.float32(0.020687466), 'roberta_pos': np.float32(0.0029573706)}\n"
          ]
        }
      ],
      "source": [
        "\n",
        "print(scores_dict)"
      ]
    },
    {
      "cell_type": "markdown",
      "metadata": {},
      "source": [
        "# Applying Sentiment Analysis to All Texts in DataFrame "
      ]
    },
    {
      "cell_type": "code",
      "execution_count": 44,
      "metadata": {},
      "outputs": [
        {
          "name": "stdout",
          "output_type": "stream",
          "text": [
            "                                                Text  roberta_neg  \\\n",
            "0  I have bought several of the Vitality canned d...     0.009624   \n",
            "1  Product arrived labeled as Jumbo Salted Peanut...     0.508986   \n",
            "2  This is a confection that has been around a fe...     0.003229   \n",
            "3  If you are looking for the secret ingredient i...     0.002295   \n",
            "4  Great taffy at a great price.  There was a wid...     0.001635   \n",
            "\n",
            "   roberta_neu  roberta_pos  \n",
            "0     0.049980     0.940395  \n",
            "1     0.452414     0.038600  \n",
            "2     0.098067     0.898704  \n",
            "3     0.090219     0.907486  \n",
            "4     0.010302     0.988063  \n"
          ]
        }
      ],
      "source": [
        "\n",
        "def polarity_scores_roberta(text):\n",
        "    try:\n",
        "        encoded_text = tokenizer(text, return_tensors='pt', truncation=True, max_length=512) # Tokenizing the input\n",
        "        output = model(**encoded_text) # Passing the tokenized text to the model\n",
        "        scores = output[0][0].detach().numpy()\n",
        "        scores = softmax(scores) # Applying the softmax function\n",
        "        return {\n",
        "            'roberta_neg': scores[0],\n",
        "            'roberta_neu': scores[1],\n",
        "            'roberta_pos': scores[2]\n",
        "        }\n",
        "    except Exception as e:\n",
        "        print(f\"Error processing text: {e}\")\n",
        "        return {\n",
        "            'roberta_neg': 0,\n",
        "            'roberta_neu': 0,\n",
        "            'roberta_pos': 0\n",
        "        }\n",
        "\n",
        "# Apply  to the all texts\n",
        "results = df['Text'].apply(lambda x: polarity_scores_roberta(x))\n",
        "\n",
        "# Convert results to new columns\n",
        "df = pd.concat([df, pd.DataFrame(results.tolist())], axis=1)\n",
        "\n",
        "# show result \n",
        "print(df[['Text', 'roberta_neg', 'roberta_neu', 'roberta_pos']].head())"
      ]
    },
    {
      "cell_type": "markdown",
      "metadata": {},
      "source": [
        "# Assigning Sentiment Labels Based on the Highest Probability"
      ]
    },
    {
      "cell_type": "code",
      "execution_count": 50,
      "metadata": {},
      "outputs": [
        {
          "name": "stdout",
          "output_type": "stream",
          "text": [
            "        Id Sentiment\n",
            "0        0  Positive\n",
            "1        1  Negative\n",
            "2        2  Positive\n",
            "3        3  Positive\n",
            "4        4  Positive\n",
            "...    ...       ...\n",
            "3995  3995  Positive\n",
            "3996  3996  Positive\n",
            "3997  3997  Positive\n",
            "3998  3998  Positive\n",
            "3999  3999  Positive\n",
            "\n",
            "[4000 rows x 2 columns]\n"
          ]
        }
      ],
      "source": [
        "# Create a new column 'Sentiment' based on the highest probability\n",
        "df['Sentiment'] = df[['roberta_neg', 'roberta_neu', 'roberta_pos']].idxmax(axis=1)\n",
        "\n",
        "# Map column names to sentiment labels\n",
        "df['Sentiment'] = df['Sentiment'].replace({\n",
        "    'roberta_neg': 'Negative',\n",
        "    'roberta_neu': 'Neutral',\n",
        "    'roberta_pos': 'Positive'\n",
        "})\n",
        "\n",
        "# Display only the ID and Sentiment columns\n",
        "result11 = df[['Id', 'Sentiment']]\n",
        "print(result11)"
      ]
    },
    {
      "cell_type": "markdown",
      "metadata": {},
      "source": [
        "# Performing Sentiment Analysis with VADER and Roberta Models  in DataFrame"
      ]
    },
    {
      "cell_type": "code",
      "execution_count": 46,
      "metadata": {},
      "outputs": [
        {
          "data": {
            "application/vnd.jupyter.widget-view+json": {
              "model_id": "07fa57b8d6fc4dcbbe90e04ddda5a559",
              "version_major": 2,
              "version_minor": 0
            },
            "text/plain": [
              "  0%|          | 0/4000 [00:00<?, ?it/s]"
            ]
          },
          "metadata": {},
          "output_type": "display_data"
        }
      ],
      "source": [
        "res = {}  # Initialize an empty dictionary to store the results\n",
        "\n",
        "# Iterate through each row in the DataFrame\n",
        "for i, row in tqdm(df.iterrows(), total=len(df)):\n",
        "    try:\n",
        "        text = row['Text']    # Extract the text and ID from the current row\n",
        "        myid = row['Id']\n",
        "        vader_result = sia.polarity_scores(text)  # Analyze the sentiment of the text using VADER\n",
        "        vader_result_rename = {}\n",
        "        for key, value in vader_result.items():\n",
        "            vader_result_rename[f\"vader_{key}\"] = value\n",
        "        roberta_result = polarity_scores_roberta(text) # Analyze the sentiment of the text using RoBERTa\n",
        "        both = {**vader_result_rename, **roberta_result}  # Merge the VADER and RoBERTa results into one dictionary\n",
        "        res[myid] = both  # Store the merged results in the dictionary 'res' with the ID as the key\n",
        "    except Exception as e:  # If an error occurs during the process, print the error and continue\n",
        "        print(f' for id {myid}: {e}, skipping...')\n",
        "        continue\n"
      ]
    },
    {
      "cell_type": "code",
      "execution_count": null,
      "metadata": {},
      "outputs": [],
      "source": []
    },
    {
      "cell_type": "code",
      "execution_count": 47,
      "metadata": {},
      "outputs": [
        {
          "name": "stdout",
          "output_type": "stream",
          "text": [
            "    vader_neg  vader_neu  vader_pos  vader_compound  roberta_neg  roberta_neu  \\\n",
            "0       0.000      0.695      0.305          0.9441     0.009624     0.049980   \n",
            "1       0.138      0.862      0.000         -0.5664     0.508986     0.452414   \n",
            "2       0.091      0.754      0.155          0.8265     0.003229     0.098067   \n",
            "3       0.000      1.000      0.000          0.0000     0.002295     0.090219   \n",
            "4       0.000      0.552      0.448          0.9468     0.001635     0.010302   \n",
            "..        ...        ...        ...             ...          ...          ...   \n",
            "80      0.000      0.723      0.277          0.9098     0.001572     0.006270   \n",
            "81      0.000      0.663      0.337          0.9041     0.002526     0.012215   \n",
            "82      0.040      0.794      0.165          0.9957     0.241412     0.456240   \n",
            "83      0.055      0.767      0.178          0.8642     0.102507     0.403605   \n",
            "84      0.109      0.676      0.214          0.8431     0.121686     0.357951   \n",
            "\n",
            "    roberta_pos  \n",
            "0      0.940395  \n",
            "1      0.038600  \n",
            "2      0.898704  \n",
            "3      0.907486  \n",
            "4      0.988063  \n",
            "..          ...  \n",
            "80     0.992158  \n",
            "81     0.985259  \n",
            "82     0.302348  \n",
            "83     0.493889  \n",
            "84     0.520363  \n",
            "\n",
            "[85 rows x 7 columns]\n"
          ]
        }
      ],
      "source": [
        "# convert to  DataFrame\n",
        "result_df = pd.DataFrame(res).T\n",
        "\n",
        "# show result\n",
        "print(result_df.head(85))\n"
      ]
    },
    {
      "cell_type": "markdown",
      "metadata": {},
      "source": [
        "# Visualizing  RoBERTa Sentiment Distribution"
      ]
    },
    {
      "cell_type": "code",
      "execution_count": 51,
      "metadata": {},
      "outputs": [
        {
          "name": "stderr",
          "output_type": "stream",
          "text": [
            "C:\\Users\\moham\\AppData\\Local\\Temp\\ipykernel_24840\\3340282461.py:3: FutureWarning: \n",
            "\n",
            "Passing `palette` without assigning `hue` is deprecated and will be removed in v0.14.0. Assign the `x` variable to `hue` and set `legend=False` for the same effect.\n",
            "\n",
            "  sns.countplot(\n"
          ]
        },
        {
          "data": {
            "image/png": "[encoded data removed]",
            "text/plain": [
              "<Figure size 800x600 with 1 Axes>"
            ]
          },
          "metadata": {},
          "output_type": "display_data"
        }
      ],
      "source": [
        "\n",
        "\n",
        "# Draw a count plot \n",
        "plt.figure(figsize=(8, 6))\n",
        "sns.countplot(\n",
        "    x='Sentiment', \n",
        "    data=result11,  #data\n",
        "    order=['Positive', 'Neutral', 'Negative'],  \n",
        "    palette='viridis'  #color\n",
        ")\n",
        "\n",
        "# title\n",
        "plt.title('Sentiment Distribution')\n",
        "plt.xlabel('Sentiment')\n",
        "plt.ylabel('Count')\n",
        "\n",
        "# show\n",
        "plt.show()\n"
      ]
    },
    {
      "cell_type": "markdown",
      "metadata": {},
      "source": [
        "# Evaluation RoBERTa "
      ]
    },
    {
      "cell_type": "code",
      "execution_count": 52,
      "metadata": {},
      "outputs": [
        {
          "name": "stdout",
          "output_type": "stream",
          "text": [
            "              precision    recall  f1-score   support\n",
            "\n",
            "    Positive       0.93      0.94      0.93      3076\n",
            "     Neutral       0.25      0.22      0.24       317\n",
            "    Negative       0.73      0.75      0.74       607\n",
            "\n",
            "    accuracy                           0.85      4000\n",
            "   macro avg       0.64      0.64      0.64      4000\n",
            "weighted avg       0.85      0.85      0.85      4000\n",
            "\n"
          ]
        }
      ],
      "source": [
        "from sklearn.metrics import classification_report  # Importing the classification_report function to calculate precision and recall\n",
        "\n",
        "# 'result11' and 'truee' contain the predicted and actual sentiment labels\n",
        "y_pred = result11['Sentiment']  # Predicted sentiment labels\n",
        "y_true = truee['Sentiment']     # Actual sentiment labels\n",
        "\n",
        "# Calculate Precision and Recall for each class (Positive, Neutral, Negative)\n",
        "report = classification_report(y_true, y_pred, labels=['Positive', 'Neutral', 'Negative'])\n",
        "\n",
        "# Display the report\n",
        "print(report)"
      ]
    },
    {
      "cell_type": "markdown",
      "metadata": {},
      "source": []
    },
    {
      "cell_type": "markdown",
      "metadata": {},
      "source": []
    },
    {
      "cell_type": "markdown",
      "metadata": {},
      "source": []
    },
    {
      "cell_type": "markdown",
      "metadata": {},
      "source": []
    },
    {
      "cell_type": "markdown",
      "metadata": {},
      "source": []
    },
    {
      "cell_type": "markdown",
      "metadata": {},
      "source": []
    },
    {
      "cell_type": "markdown",
      "metadata": {},
      "source": []
    },
    {
      "cell_type": "markdown",
      "metadata": {},
      "source": []
    },
    {
      "cell_type": "markdown",
      "metadata": {},
      "source": []
    },
    {
      "cell_type": "markdown",
      "metadata": {},
      "source": []
    }
  ],
  "metadata": {
    "colab": {
      "name": "Sentiment Analysis Python 🤗 [Youtube Tutorial]",
      "provenance": []
    },
    "kernelspec": {
      "display_name": "Python 3",
      "language": "python",
      "name": "python3"
    },
    "language_info": {
      "codemirror_mode": {
        "name": "ipython",
        "version": 3
      },
      "file_extension": ".py",
      "mimetype": "text/x-python",
      "name": "python",
      "nbconvert_exporter": "python",
      "pygments_lexer": "ipython3",
      "version": "3.11.8"
    }
  },
  "nbformat": 4,
  "nbformat_minor": 0
}
